{
  "nbformat": 4,
  "nbformat_minor": 0,
  "metadata": {
    "colab": {
      "provenance": [],
      "include_colab_link": true
    },
    "kernelspec": {
      "name": "python3",
      "display_name": "Python 3"
    },
    "language_info": {
      "name": "python"
    }
  },
  "cells": [
    {
      "cell_type": "markdown",
      "metadata": {
        "id": "view-in-github",
        "colab_type": "text"
      },
      "source": [
        "<a href=\"https://colab.research.google.com/github/21pa1a6117/DL-LAB/blob/main/AND_OR_gates_using_perception.ipynb\" target=\"_parent\"><img src=\"https://colab.research.google.com/assets/colab-badge.svg\" alt=\"Open In Colab\"/></a>"
      ]
    },
    {
      "cell_type": "markdown",
      "source": [
        "\n",
        "\n",
        "**Implementation of AND OR gates using perception**"
      ],
      "metadata": {
        "id": "0o0lWTjuV2kg"
      }
    },
    {
      "cell_type": "code",
      "source": [
        "import numpy as np\n",
        "import random\n",
        "import sys"
      ],
      "metadata": {
        "id": "IRSQMkxGWC7F"
      },
      "execution_count": null,
      "outputs": []
    },
    {
      "cell_type": "code",
      "source": [
        "\n",
        "and_gate = [\n",
        "    [(1, 1), 1],\n",
        "    [(1, -1), -1],\n",
        "    [(-1, 1), -1],\n",
        "    [(-1, -1), -1]\n",
        "]"
      ],
      "metadata": {
        "id": "irRBZ0szWGKf"
      },
      "execution_count": null,
      "outputs": []
    },
    {
      "cell_type": "code",
      "source": [
        "or_gate = [\n",
        "    [(1, 1), 1],\n",
        "    [(1, -1), 1],\n",
        "    [(-1, 1), 1],\n",
        "    [(-1, -1), -1]\n",
        "]"
      ],
      "metadata": {
        "id": "bLDp_bj2WKgP"
      },
      "execution_count": null,
      "outputs": []
    },
    {
      "cell_type": "code",
      "source": [
        "def activation_function(x):\n",
        "    if x > 0:\n",
        "        return 1\n",
        "    elif x < 0:\n",
        "        return -1"
      ],
      "metadata": {
        "id": "6ogKEu21WNlv"
      },
      "execution_count": null,
      "outputs": []
    },
    {
      "cell_type": "code",
      "source": [
        "def run_perceptron(gate):\n",
        "    bias = (1,)\n",
        "    learning_constant = 0.1\n",
        "    n = 50\n",
        "\n",
        "    weights = []\n",
        "\n",
        "    for i in range(3):\n",
        "        weights.append(random.uniform(-1, 1))\n",
        "\n",
        "    for i in range(n):\n",
        "        inputs, expected_output = random.choice(gate)\n",
        "        inputs = inputs + bias\n",
        "        weighted_sum = np.dot(inputs, weights)\n",
        "        guess = activation_function(weighted_sum)\n",
        "        error = expected_output - guess\n",
        "        weights += learning_constant * error * np.asarray(inputs)\n",
        "\n",
        "    inputs, expected_output = random.choice(gate)\n",
        "    print(\"inputs: \" + str(inputs))\n",
        "    inputs = inputs + bias\n",
        "    weighted_sum = np.dot(inputs, weights)\n",
        "    print(\"weighted sum: \" + str(weighted_sum))\n",
        "    print(\"correct answer: \" + str(expected_output))\n",
        "    print(\"perceptron guess: \" + str(activation_function(weighted_sum)) + '\\n')"
      ],
      "metadata": {
        "id": "ZCCT6nauWQhf"
      },
      "execution_count": null,
      "outputs": []
    },
    {
      "cell_type": "code",
      "source": [
        "tests=2\n",
        "for i in range(tests):\n",
        "    print(\"// AND //\")\n",
        "    run_perceptron(and_gate)\n",
        "\n",
        "    print(\"// OR //\")\n",
        "    run_perceptron(or_gate)"
      ],
      "metadata": {
        "colab": {
          "base_uri": "https://localhost:8080/"
        },
        "id": "AUVa0SGTWiFN",
        "outputId": "d24c3b53-8219-4e95-9138-07d1b50a937c"
      },
      "execution_count": null,
      "outputs": [
        {
          "output_type": "stream",
          "name": "stdout",
          "text": [
            "// AND //\n",
            "inputs: (1, -1)\n",
            "weighted sum: -0.4702081527044919\n",
            "correct answer: -1\n",
            "perceptron guess: -1\n",
            "\n",
            "// OR //\n",
            "inputs: (-1, 1)\n",
            "weighted sum: 0.20424690372114246\n",
            "correct answer: 1\n",
            "perceptron guess: 1\n",
            "\n",
            "// AND //\n",
            "inputs: (-1, 1)\n",
            "weighted sum: -0.13968975864552668\n",
            "correct answer: -1\n",
            "perceptron guess: -1\n",
            "\n",
            "// OR //\n",
            "inputs: (1, -1)\n",
            "weighted sum: 0.3293511336510941\n",
            "correct answer: 1\n",
            "perceptron guess: 1\n",
            "\n"
          ]
        }
      ]
    }
  ]
}